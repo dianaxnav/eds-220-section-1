{
 "cells": [
  {
   "cell_type": "markdown",
   "id": "6813f020-be51-4610-8166-3dc990354561",
   "metadata": {},
   "source": [
    "This data is about the occurrence records and associated climate and environmental data for all arthropod prey of listed species in California drylands as identified in Lortie et al. California drylands include Southern California, the bay area, and slightly south of the US Border in CA. It contains a synthesis of multiple datasets and the data ranges from 1945 to 2022. It has an associated metadata file and contains non-sensitive data.\n",
    "\n",
    "\n",
    "Rachel King, Jenna Braun, Michael Westphal, & CJ Lortie. (2023). Compiled occurrence records for prey items of listed species found in California drylands with associated environmental data. Knowledge Network for Biocomplexity. doi:10.5063/F1VM49RH.\n",
    "\n",
    "DOA: 5 October 2023\n",
    "\n",
    "https://knb.ecoinformatics.org/view/doi%3A10.5063%2FF1VM49RH"
   ]
  },
  {
   "cell_type": "code",
   "execution_count": 2,
   "id": "0fa414b9-9f45-4a94-b460-57e21d20847f",
   "metadata": {
    "tags": []
   },
   "outputs": [],
   "source": [
    "import pandas as pd\n",
    "\n",
    "prey = pd.read_csv('https://knb.ecoinformatics.org/knb/d1/mn/v2/object/urn%3Auuid%3A3baf7289-bf90-4db3-ad11-58785c09b26e')"
   ]
  },
  {
   "cell_type": "code",
   "execution_count": null,
   "id": "83058291-6b1d-4caa-96b4-777f9d124ffb",
   "metadata": {},
   "outputs": [],
   "source": []
  }
 ],
 "metadata": {
  "kernelspec": {
   "display_name": "Anaconda 3 (Base)",
   "language": "python",
   "name": "base"
  },
  "language_info": {
   "codemirror_mode": {
    "name": "ipython",
    "version": 3
   },
   "file_extension": ".py",
   "mimetype": "text/x-python",
   "name": "python",
   "nbconvert_exporter": "python",
   "pygments_lexer": "ipython3",
   "version": "3.9.13"
  }
 },
 "nbformat": 4,
 "nbformat_minor": 5
}
